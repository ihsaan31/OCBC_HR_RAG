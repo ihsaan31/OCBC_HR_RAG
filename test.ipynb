{
 "cells": [
  {
   "cell_type": "code",
   "execution_count": 1,
   "metadata": {},
   "outputs": [],
   "source": [
    "from langchain import hub\n",
    "from langchain_chroma import Chroma\n",
    "from langchain_community.document_loaders import WebBaseLoader\n",
    "from langchain_core.output_parsers import StrOutputParser\n",
    "from langchain_core.runnables import RunnablePassthrough\n",
    "from langchain_openai import OpenAIEmbeddings\n",
    "from langchain_text_splitters import RecursiveCharacterTextSplitter\n",
    "from langchain_community.document_loaders import PyPDFLoader\n",
    "from langchain_openai import AzureChatOpenAI, AzureOpenAIEmbeddings\n",
    "import os\n",
    "from pinecone import Pinecone, ServerlessSpec\n",
    "from langchain_pinecone import PineconeVectorStore\n",
    "from uuid import uuid4\n",
    "from dotenv import load_dotenv\n",
    "load_dotenv()"
   ]
  },
  {
   "cell_type": "code",
   "execution_count": 18,
   "metadata": {},
   "outputs": [],
   "source": [
    "AZURE_OPENAI_ENDPOINT = os.getenv('AZURE_OPENAI_ENDPOINT')\n",
    "AZURE_OPENAI_DEPLOYMENT_ID = os.getenv('AZURE_OPENAI_DEPLOYMENT_ID')\n",
    "AZURE_OPENAI_KEY = os.getenv('AZURE_OPENAI_KEY')\n",
    "AZURE_API_VERSION = os.getenv('AZURE_API_VERSION')\n",
    "PINECONE_API_KEY = os.getenv('PINECONE_API_KEY')\n",
    "pc = Pinecone(api_key=PINECONE_API_KEY)"
   ]
  },
  {
   "cell_type": "code",
   "execution_count": 19,
   "metadata": {},
   "outputs": [],
   "source": [
    "index_name = \"ocbc-hr-gpt\"  # change if desired\n",
    "\n",
    "index = pc.Index(index_name)"
   ]
  },
  {
   "cell_type": "code",
   "execution_count": 20,
   "metadata": {},
   "outputs": [],
   "source": [
    "llm = AzureChatOpenAI(\n",
    "            azure_endpoint=AZURE_OPENAI_ENDPOINT,\n",
    "            azure_deployment=AZURE_OPENAI_DEPLOYMENT_ID,\n",
    "            api_version=AZURE_API_VERSION,\n",
    "            api_key=AZURE_OPENAI_KEY,\n",
    "            temperature=0.0,\n",
    "            verbose=True,\n",
    "        )\n",
    "\n",
    "embedding_llm = AzureOpenAIEmbeddings(\n",
    "            azure_endpoint=AZURE_OPENAI_ENDPOINT,\n",
    "            azure_deployment='embedding-ada-crayon',\n",
    "            api_key=AZURE_OPENAI_KEY,\n",
    "            api_version=AZURE_API_VERSION,\n",
    "        )"
   ]
  },
  {
   "cell_type": "code",
   "execution_count": 21,
   "metadata": {},
   "outputs": [],
   "source": [
    "vector_store = PineconeVectorStore(index=index, embedding=embedding_llm)\n",
    "retriever = vector_store.as_retriever()"
   ]
  },
  {
   "cell_type": "code",
   "execution_count": 22,
   "metadata": {},
   "outputs": [],
   "source": [
    "prompt = hub.pull(\"rlm/rag-prompt\")\n",
    "\n",
    "\n",
    "def format_docs(docs):\n",
    "    return \"\\n\\n\".join(doc.page_content for doc in docs)\n",
    "\n",
    "\n",
    "\n",
    "rag_chain = (\n",
    "    {\"context\": retriever | format_docs, \"question\": RunnablePassthrough()}\n",
    "    | prompt\n",
    "    | llm\n",
    "    | StrOutputParser()\n",
    ")\n",
    "\n",
    "def caller(message):\n",
    "    response = rag_chain.invoke(message)\n",
    "    return response"
   ]
  },
  {
   "cell_type": "code",
   "execution_count": 24,
   "metadata": {},
   "outputs": [
    {
     "data": {
      "text/plain": [
       "[Document(metadata={'page': 2.0, 'source': 'c:\\\\Users\\\\san\\\\Downloads\\\\Dummy - CB Policy.pdf'}, page_content='3 \\n \\nOCBC Information Classification: Internal  Scope & Applicability  4 \\nDefinition & Glossary  4 \\nPolicy / Process  Error! Bookmark not def ined.  \\n4.1 Policy Definition:  Error! Bookmark not defined.  \\n4.2. Procedures  Error! Bookmark not defined.  \\n4.3. Responsibility – HR department / Finance department  Error! Bookmark not \\ndefined.  \\nNon-compliance and consequences  1 \\nSpecial Circumstances and Exceptions  Error! Bookmark not defined.'),\n",
       " Document(metadata={'page': 3.0, 'source': 'c:\\\\Users\\\\san\\\\Downloads\\\\Dummy - CB Policy.pdf'}, page_content=\"4 \\n \\nOCBC Information Classification: Internal   \\n1. Objective  \\n \\nThe objective of the Compensation and Benefits Policy (The Policy) is aimed \\ntowards building a strong framework of pay structure for the organization to \\ncreate a  competitive work environment for its employees.  \\nThe policy aims  to be transparent about  compensation plans and \\ncommunicate the same to its employees.  \\n \\n2. Scope & Applicability  \\n \\nThe P olicy defines the principles upon which the organisation's Compensation \\nand Benefits (C&B) structure has been formulated. It also serves as a strong \\nbase for referring to the structure and elements of compensation for \\nemployees and the HR department alike.  \\nThe Compensation and Benefits policy applies  to all employees working with \\nthe organization.  \\n \\n3. Definition & Glossary  \\n \\nTerm \\n/Abbreviation  Definition / Expansion  \\nEoSB  End of Service Benefits  \\nGCC  Gulf Cooperating Countries  \\nGPSSA  General Pension Social Security Authority\"),\n",
       " Document(metadata={'page': 1.0, 'source': 'c:\\\\Users\\\\san\\\\Downloads\\\\Dummy - CB Policy.pdf'}, page_content='2 \\n \\nOCBC Information Classification: Internal   \\nRevision History  \\n  \\nVer \\nNo. Change \\nDescription  Prepared \\nBy Reviewed By  Approved \\nBy Date  \\n      \\n  \\n  \\n \\n \\n \\n \\n \\n \\n \\n \\n \\n \\n \\n \\n \\n \\n \\n \\n \\n \\n \\n \\n \\n \\n \\n \\n \\n \\n \\n \\n \\n \\nTABLE OF CONTENTS  \\n \\n \\n \\n \\n \\n \\nObjective  4'),\n",
       " Document(metadata={'page': 3.0, 'source': 'c:\\\\Users\\\\san\\\\Downloads\\\\Dummy - CB Policy.pdf'}, page_content='3. Definition & Glossary  \\n \\nTerm \\n/Abbreviation  Definition / Expansion  \\nEoSB  End of Service Benefits  \\nGCC  Gulf Cooperating Countries  \\nGPSSA  General Pension Social Security Authority  \\n \\n4. Policy / Process  \\n \\n4.1 Policy Definition  \\n \\nThe Policy defines the overall C&B structure for employees and the principles \\nupon which it is based. The policy document aims to act as a guide and \\nreferral document to the respective stakeholders.  \\nThe basic principles on which the Policy is designed are as follows:  \\nEqual Pay for Equal Work  \\n \\nThe Policy defines a pay structure based on \"Equal pay for equal work\" \\nprinciples, meaning that employees should be compensated commensurate \\nwith their skills and experience.  \\nNon–Discrimination  \\n \\nThe organisation does not believe in discrimination amongst and within its \\norganisation based on caste, creed, color, religion, nationality, gender and')]"
      ]
     },
     "execution_count": 24,
     "metadata": {},
     "output_type": "execute_result"
    }
   ],
   "source": [
    "retriever.invoke('Scope & Applicability ')"
   ]
  },
  {
   "cell_type": "code",
   "execution_count": 25,
   "metadata": {},
   "outputs": [
    {
     "data": {
      "text/plain": [
       "\"The scope and applicability of the Compensation and Benefits Policy is to define the principles of the organization's C&B structure and serve as a reference for employees and the HR department. The policy applies to all employees working with the organization. The policy aims to provide transparency and communicate compensation plans to employees.\""
      ]
     },
     "execution_count": 25,
     "metadata": {},
     "output_type": "execute_result"
    }
   ],
   "source": [
    "caller('Scope & Applicability ')"
   ]
  }
 ],
 "metadata": {
  "kernelspec": {
   "display_name": "new_env",
   "language": "python",
   "name": "python3"
  },
  "language_info": {
   "codemirror_mode": {
    "name": "ipython",
    "version": 3
   },
   "file_extension": ".py",
   "mimetype": "text/x-python",
   "name": "python",
   "nbconvert_exporter": "python",
   "pygments_lexer": "ipython3",
   "version": "3.9.19"
  }
 },
 "nbformat": 4,
 "nbformat_minor": 2
}

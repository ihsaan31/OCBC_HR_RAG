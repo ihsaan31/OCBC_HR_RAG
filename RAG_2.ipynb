{
 "cells": [
  {
   "cell_type": "code",
   "execution_count": 1,
   "metadata": {},
   "outputs": [
    {
     "name": "stderr",
     "output_type": "stream",
     "text": [
      "USER_AGENT environment variable not set, consider setting it to identify your requests.\n"
     ]
    },
    {
     "data": {
      "text/plain": [
       "True"
      ]
     },
     "execution_count": 1,
     "metadata": {},
     "output_type": "execute_result"
    }
   ],
   "source": [
    "from langchain import hub\n",
    "from langchain_chroma import Chroma\n",
    "from langchain_community.document_loaders import WebBaseLoader\n",
    "from langchain_core.output_parsers import StrOutputParser\n",
    "from langchain_core.runnables import RunnablePassthrough\n",
    "from langchain_openai import OpenAIEmbeddings\n",
    "from langchain_text_splitters import RecursiveCharacterTextSplitter\n",
    "from langchain_community.document_loaders import PyPDFLoader\n",
    "from langchain_openai import AzureChatOpenAI, AzureOpenAIEmbeddings\n",
    "import os\n",
    "from pinecone import Pinecone, ServerlessSpec\n",
    "from langchain_pinecone import PineconeVectorStore\n",
    "from uuid import uuid4\n",
    "from dotenv import load_dotenv\n",
    "load_dotenv()"
   ]
  },
  {
   "cell_type": "code",
   "execution_count": 2,
   "metadata": {},
   "outputs": [],
   "source": [
    "AZURE_OPENAI_ENDPOINT = os.getenv('AZURE_OPENAI_ENDPOINT')\n",
    "AZURE_OPENAI_DEPLOYMENT_ID = os.getenv('AZURE_OPENAI_DEPLOYMENT_ID')\n",
    "AZURE_OPENAI_KEY = os.getenv('AZURE_OPENAI_KEY')\n",
    "AZURE_API_VERSION = os.getenv('AZURE_API_VERSION')\n",
    "PINECONE_API_KEY = os.getenv('PINECONE_API_KEY')\n",
    "pc = Pinecone(api_key=PINECONE_API_KEY)"
   ]
  },
  {
   "cell_type": "code",
   "execution_count": 3,
   "metadata": {},
   "outputs": [],
   "source": [
    "llm = AzureChatOpenAI(\n",
    "            azure_endpoint=AZURE_OPENAI_ENDPOINT,\n",
    "            azure_deployment=AZURE_OPENAI_DEPLOYMENT_ID,\n",
    "            api_version=AZURE_API_VERSION,\n",
    "            api_key=AZURE_OPENAI_KEY,\n",
    "            temperature=0.0,\n",
    "            verbose=True,\n",
    "        )\n",
    "\n",
    "embedding_llm = AzureOpenAIEmbeddings(\n",
    "            azure_endpoint=AZURE_OPENAI_ENDPOINT,\n",
    "            azure_deployment='embedding-ada-crayon',\n",
    "            api_key=AZURE_OPENAI_KEY,\n",
    "            api_version=AZURE_API_VERSION,\n",
    "        )"
   ]
  },
  {
   "cell_type": "code",
   "execution_count": 7,
   "metadata": {},
   "outputs": [],
   "source": [
    "loader = PyPDFLoader(r\"Dummy - CB Policy.pdf\")\n",
    "pages = loader.load_and_split()\n",
    "text_splitter = RecursiveCharacterTextSplitter(chunk_size=1000)\n",
    "splits = text_splitter.split_documents(pages)"
   ]
  },
  {
   "cell_type": "code",
   "execution_count": 8,
   "metadata": {},
   "outputs": [
    {
     "data": {
      "text/plain": [
       "[Document(metadata={'source': 'Dummy - CB Policy.pdf', 'page': 0}, page_content='1 \\n \\nOCBC Information Classification: Internal   \\n \\n \\n \\n \\n \\n \\n \\n \\nCompensation & Benefits \\nPolicy  \\nPT CRAYON SHINCHAN  \\n \\nPolicy Effective Date: < 07/08/24> \\n \\n \\n \\n \\n \\n \\nNo part of this documentation may be reproduced or transmitted in any form or by any means, electronic \\nor mechanical, including photocopying or recording, for any purpose without express written permission \\nof the CEO of PT CRAYON  SHINCHAN.  \\n \\n© 2021, <Company Name Here>. All Rights Reserved'),\n",
       " Document(metadata={'source': 'Dummy - CB Policy.pdf', 'page': 1}, page_content='2 \\n \\nOCBC Information Classification: Internal   \\nRevision History  \\n  \\nVer \\nNo. Change \\nDescription  Prepared \\nBy Reviewed By  Approved \\nBy Date  \\n      \\n  \\n  \\n \\n \\n \\n \\n \\n \\n \\n \\n \\n \\n \\n \\n \\n \\n \\n \\n \\n \\n \\n \\n \\n \\n \\n \\n \\n \\n \\n \\n \\n \\nTABLE OF CONTENTS  \\n \\n \\n \\n \\n \\n \\nObjective  4'),\n",
       " Document(metadata={'source': 'Dummy - CB Policy.pdf', 'page': 2}, page_content='3 \\n \\nOCBC Information Classification: Internal  Scope & Applicability  4 \\nDefinition & Glossary  4 \\nPolicy / Process  Error! Bookmark not def ined.  \\n4.1 Policy Definition:  Error! Bookmark not defined.  \\n4.2. Procedures  Error! Bookmark not defined.  \\n4.3. Responsibility – HR department / Finance department  Error! Bookmark not \\ndefined.  \\nNon-compliance and consequences  1 \\nSpecial Circumstances and Exceptions  Error! Bookmark not defined.'),\n",
       " Document(metadata={'source': 'Dummy - CB Policy.pdf', 'page': 3}, page_content=\"4 \\n \\nOCBC Information Classification: Internal   \\n1. Objective  \\n \\nThe objective of the Compensation and Benefits Policy (The Policy) is aimed \\ntowards building a strong framework of pay structure for the organization to \\ncreate a  competitive work environment for its employees.  \\nThe policy aims  to be transparent about  compensation plans and \\ncommunicate the same to its employees.  \\n \\n2. Scope & Applicability  \\n \\nThe P olicy defines the principles upon which the organisation's Compensation \\nand Benefits (C&B) structure has been formulated. It also serves as a strong \\nbase for referring to the structure and elements of compensation for \\nemployees and the HR department alike.  \\nThe Compensation and Benefits policy applies  to all employees working with \\nthe organization.  \\n \\n3. Definition & Glossary  \\n \\nTerm \\n/Abbreviation  Definition / Expansion  \\nEoSB  End of Service Benefits  \\nGCC  Gulf Cooperating Countries  \\nGPSSA  General Pension Social Security Authority\"),\n",
       " Document(metadata={'source': 'Dummy - CB Policy.pdf', 'page': 3}, page_content='3. Definition & Glossary  \\n \\nTerm \\n/Abbreviation  Definition / Expansion  \\nEoSB  End of Service Benefits  \\nGCC  Gulf Cooperating Countries  \\nGPSSA  General Pension Social Security Authority  \\n \\n4. Policy / Process  \\n \\n4.1 Policy Definition  \\n \\nThe Policy defines the overall C&B structure for employees and the principles \\nupon which it is based. The policy document aims to act as a guide and \\nreferral document to the respective stakeholders.  \\nThe basic principles on which the Policy is designed are as follows:  \\nEqual Pay for Equal Work  \\n \\nThe Policy defines a pay structure based on \"Equal pay for equal work\" \\nprinciples, meaning that employees should be compensated commensurate \\nwith their skills and experience.  \\nNon–Discrimination  \\n \\nThe organisation does not believe in discrimination amongst and within its \\norganisation based on caste, creed, color, religion, nationality, gender and'),\n",
       " Document(metadata={'source': 'Dummy - CB Policy.pdf', 'page': 4}, page_content='5 \\n \\nOCBC Information Classification: Internal  pays equally to all its employees as per the designated job roles of the \\nemployees within the organisati on.  \\n \\nTransparency  \\n \\nThe organisation believes in the principle of transparency, i.e. the employees \\nof the organisation are rewarded and compensated as per the respective job \\nroles and performance within the organisation.  \\n \\n4.2. Procedures  \\n \\nThe procedure of  formulation of C&B policy is explained via the different \\ncomponents of C&B. The policy document aims to share with the respective \\nstakeholders the description and various components of compensation in \\nterms of Fixed and Variable features.  \\nFixed Component s \\n \\nThe following are the Fixed components of compensation of the organisation:  \\n● Basic Salary  \\n● Housing Allowance  \\nThe total of Basic Salary and Housing Allowance is the Gross salary.  \\n● The Basic Salary is 50% of the Gross salary.  \\nAllowances'),\n",
       " Document(metadata={'source': 'Dummy - CB Policy.pdf', 'page': 4}, page_content='● Basic Salary  \\n● Housing Allowance  \\nThe total of Basic Salary and Housing Allowance is the Gross salary.  \\n● The Basic Salary is 50% of the Gross salary.  \\nAllowances  \\n \\nAny other additi onal benefits, i.e. Car Allowance + Fuel Allowance (depending \\nupon the hierarchy within the organisation and job responsibilities)  \\nThe following are the Variable Benefits of the compensation Structure  \\n● Overtime (depending upon the hierarchy within the organ isation)  \\n● Incentives and /or Bonus (depending upon the hierarchy within the \\norganisation and job within the organisation)  \\n Mandatory Benefits  \\n \\nThe following are the components of Mandatory Benefits that are extended to \\nemployees.  \\n● Visa and Employment processing fee  – The visa fee of employees \\nshall be borne by the organisation. However, the visa for immediate \\nfamily members  shall have to be borne by employees themselves. If \\nany requests for assistance in providing family visa is made by'),\n",
       " Document(metadata={'source': 'Dummy - CB Policy.pdf', 'page': 4}, page_content='family members  shall have to be borne by employees themselves. If \\nany requests for assistance in providing family visa is made by \\nemployees, then the organisation shall assist employees. However, the \\namount for family visa shall have to be paid to the organisation as per  \\nthe mutual understanding and agreement between the organisation \\nand employees.  \\n● 30 days Paid Leave i.e. Annual Leave : Depends upon the tenure of \\nemployment within the organisation and successful completion of the \\nprobation period.'),\n",
       " Document(metadata={'source': 'Dummy - CB Policy.pdf', 'page': 5}, page_content='6 \\n \\nOCBC Information Classification: Internal  ● Medical Health Insuranc e of employees  Medical Health Insurance of \\nthe immediate dependents shall have to be undertaken by respective \\nemployees. If any requests for assistance in providing medical health \\ninsurance for immediate family members are made by employees, then \\nthe organ isation shall assist them. However, the amount for medical \\nhealth insurance for close family members shall have to be paid to the \\norganisation as per the mutual understanding and agreement between \\nthe organisation and employees.  \\n● End of Service Benefits (E SB) like Gratuity and pending leave salary at \\nthe end of service, i.e. applicable if either the employee leaves the \\norganisation or if the employee service contract is terminated by the \\norganisation. To receive the EoSB, employees must have completed at \\nleast one year of service with the organisation.  \\n● Pension scheme - Emirati nationals and GCC nationals are enrolled in'),\n",
       " Document(metadata={'source': 'Dummy - CB Policy.pdf', 'page': 5}, page_content='organisation. To receive the EoSB, employees must have completed at \\nleast one year of service with the organisation.  \\n● Pension scheme - Emirati nationals and GCC nationals are enrolled in \\nthe Pension scheme with GPSSA.  \\nVariable Benefits:  Descriptions – Eligibility - Calculations:  \\nIncentives and/or Bonus  \\n \\nThe Incentive and /or Bonus is extended to employees once the organisation \\nachieves its profitability targets and/or is extended on the occasions of \\nfestivals.  \\n● Employees become eligible for the same upon completing one year of \\nservice with the organisation.  \\n● The Incentive a nd/or Bonus are shared on an annual basis.  \\n● The Incentive and Bonus are decided and disbursed based on \\ncompany and individual employee performance.  \\n● The Incentives and Bonus disbursement is at the discretion of \\nmanagement and/or the board of directors.  \\nOvertime  \\n \\nOvertime is given to employees in the event employees devote extra hours to \\nduty or work on a holiday.'),\n",
       " Document(metadata={'source': 'Dummy - CB Policy.pdf', 'page': 5}, page_content='management and/or the board of directors.  \\nOvertime  \\n \\nOvertime is given to employees in the event employees devote extra hours to \\nduty or work on a holiday.  \\n● Overtime is extended to employees depending upon the job hierarchy \\nwithin the organisation.  \\n● The organisation may extend the compensatory off in stead of overtime, \\ni.e. employees shall be granted leave in return for working on a holiday \\nand/or extra hours.  \\n● Overtime is calculated on the Basic salary plus 25% of that pay.  \\n● Overtime could increase to 50% if the overtime is done between 10 pm \\nand 4 am.  \\nMandatory Benefits: Descriptions, Eligibility & Calculations:  \\n \\nVisa and Employment processing fee'),\n",
       " Document(metadata={'source': 'Dummy - CB Policy.pdf', 'page': 6}, page_content='7 \\n \\nOCBC Information Classification: Internal  ● It refers to the costs related to visa and labour contracts submission in \\nthe labour department.  \\n● The process of visa issuance and formulation of the service agreement \\nis initiated as per the date of joining of employees.  \\n \\nMedical Health Insurance for empl oyees  \\n \\n● It refers to the health insurance of employees, the cost of which \\nis borne by the organisation.  \\n● Employees working under fixed -time employee service contracts \\nare eligible for the same.  \\n● The Medical Health Insurance of employees is offered until the \\nend of employment service contract with the organisation.  \\n \\n30 days Paid Leave, i.e. Annual Leave  \\n \\n● The same is extended upon completion of one year of service \\nwith the organisation.  \\n● The same is  equivalent to a one -month salary of an employee.  \\nMaternity  Leave  \\n \\n● Maternity leave is given to female em ployee s who are going to \\ngive labor.  \\n● Maximum mate rnity leave period is 3 months.'),\n",
       " Document(metadata={'source': 'Dummy - CB Policy.pdf', 'page': 6}, page_content=\"Maternity  Leave  \\n \\n● Maternity leave is given to female em ployee s who are going to \\ngive labor.  \\n● Maximum mate rnity leave period is 3 months.  \\n \\n \\nEnd of Service Benefits (ESB)  \\n \\n● The same is extended to employees if they decide to leave the \\norganisation or are terminated by the organisation. ESB  refers to \\ngratuity or any paid leave salary that has not  been paid by the \\norganisation.  \\n● In the event employees serve the organisation for more than 1 \\nyear and less than 5 years, the full gratuity pay would amount to \\n21 days' salary for every year of service.  \\n● If employees serve the organisation for longer than 5  years, the \\ngratuity will amount to 30 days' salary for each year worked over \\nthe 5 -year threshold.  \\n● The total gratuity payment, regardless of the type of employment \\ncontract, will  not exceed the amount of the employee's 2 years' \\nsalary . \\n \\nPension and GPSSA\"),\n",
       " Document(metadata={'source': 'Dummy - CB Policy.pdf', 'page': 7}, page_content='8 \\n \\nOCBC Information Classification: Internal  ● Pensions are extended to Emirati nationals in the UAE. All \\nEmirati and GCC nationals are enrolled with the GPSSA. The \\ncalculation of employee and employer contributions is different \\nin the government and private sectors. In the government \\nsector, the em ployee and employer contribution to Pension is as \\nfollows:  \\n● Government sector : Employer Contribution: 15% of basic \\nmonthly salary, social allowance of a national, allowance for \\nchildren, allowance for the cost of living, and allowance for \\naccommodation. Employee Contribution: 5% of basic monthly \\nsalary, social allowance of a national, allowance for children, \\nallowance for cost of living, and allowance for accommodation  \\n● Private sector  - Employer Contribution: 12.5% of the \\ncontractual salary stipulated in the employment contract, \\nincluding basic salary and allowances (to be paid regularly and \\nmonthly).Employee Contribution: 5% of the contractual salary'),\n",
       " Document(metadata={'source': 'Dummy - CB Policy.pdf', 'page': 7}, page_content='contractual salary stipulated in the employment contract, \\nincluding basic salary and allowances (to be paid regularly and \\nmonthly).Employee Contribution: 5% of the contractual salary \\nstipulated in the employment contract, including basic salary and \\nallowances (to be paid on a regular and monthly basis). \\nGovernment Contribution: 2.5% contractual salary stipulated in \\nthe employment contract, including basic salary and allowances \\n(to be paid on a regular and monthly basis).  \\n● The minimum base amount for calculating GPSSA is 1,000 \\nAED.  \\n● The maximum base amount for calculating GPSSA is 50,000 \\nAED.  \\n● The salary for the month of January each year is the basis of the \\nsocial contribution calculation for the remaining months (i.e. \\nFebruary to December).  \\nPensions  \\n \\n● An Emirati becomes eligibl e for pensions if the employee completes 20 \\nyears of service and is at least 50 years of age.  \\n● The amount of pension increases by 2 per cent for every year the'),\n",
       " Document(metadata={'source': 'Dummy - CB Policy.pdf', 'page': 7}, page_content='● An Emirati becomes eligibl e for pensions if the employee completes 20 \\nyears of service and is at least 50 years of age.  \\n● The amount of pension increases by 2 per cent for every year the \\nemployee works after 20 years of service until the employee completes \\n35 years of service.  \\n● When employee/s completes 35 years of service, the respective \\nemployee qualifies to get a pension equal to his salary.  \\n● When an employee exceeds 35 years of service, then he shall get a \\npension equal to salary of three months for each year.  \\n● Pension for GC C Nationals: A GCC citizen who works in another GCC \\ncountry has the right to enjoy a pension in the same ways as he/she \\nwould enjoy if working in his/her own home country. He/she is eligible \\nto receive a pension as per the respective law of his/her country . \\n4.3 Responsibility – HR department / Finance department  \\n \\n● The Manager HR shall keep the records of the employees at the time'),\n",
       " Document(metadata={'source': 'Dummy - CB Policy.pdf', 'page': 7}, page_content='to receive a pension as per the respective law of his/her country . \\n4.3 Responsibility – HR department / Finance department  \\n \\n● The Manager HR shall keep the records of the employees at the time \\nof joining and/or whose employment service has been terminated.'),\n",
       " Document(metadata={'source': 'Dummy - CB Policy.pdf', 'page': 8}, page_content=\"9 \\n \\nOCBC Information Classification: Internal  ● For finalisation of ESB , the Manager HR and Manager Finance sha ll \\nhave to be in constant communication regarding the details of \\nemployees leaving the organisation or whose employment service \\ncontract is being terminated by the organisation.  \\n● For finalisation on visa processing initiation and employment process, \\nthe Ma nager HR and the Manager Finance shall have to be in constant \\ncommunication to discuss the expenses related to the same.  \\n● The Manager HR should keep records of the employees eligible for \\nsocial contributions.  \\n● The Manager HR should keep records of the empl oyees of GCC \\nnationals.  \\n● Payments to GPSSA should be processed through organisation's \\ncorresponding bank or exchange houses  \\n● Database of requisite employees should be reviewed on a monthly and \\nannual basis to ensure that no eligible employee is missed out on  \\npayments.  \\n● The Manager Finance should budget and manage the funds for the\"),\n",
       " Document(metadata={'source': 'Dummy - CB Policy.pdf', 'page': 8}, page_content=\"annual basis to ensure that no eligible employee is missed out on  \\npayments.  \\n● The Manager Finance should budget and manage the funds for the \\nrelease of employees' benefits.  \\n \\n5. Non-compliance and consequences  \\n \\nThe organisation shall take necessary disciplinary actions in terms of non -\\ncompliance by the requisite parties involved in collecting the records of \\nemployees' Compensation and Benefits. The Disciplinary action includes \\ndemotion, reprimand, suspension or t ermination, and detraction of benefits for \\na definite or indefinite time. An investigation committee shall be formulated for \\nan unbiased investigation of the complaint submitted for non -compliance to \\nthe Compensation and Benefits Policy.  \\n \\n6. Special Circumst ances and Exceptions  \\n \\nIn the event the requisite HR Manager and/or Manager Finance is unable to \\nformulate the data and/or any employees contribution failed to be made on a\"),\n",
       " Document(metadata={'source': 'Dummy - CB Policy.pdf', 'page': 8}, page_content='6. Special Circumst ances and Exceptions  \\n \\nIn the event the requisite HR Manager and/or Manager Finance is unable to \\nformulate the data and/or any employees contribution failed to be made on a \\nmonthly basis and/or the contribution is missed out due to software and/or \\ntechnical  challenges in the bank system, then no necessary disciplinary action \\nshall be undertaken against the particular HR employee and/or Manager \\nFinance.'),\n",
       " Document(metadata={'source': 'Dummy - CB Policy.pdf', 'page': 9}, page_content='10 \\n \\nOCBC Information Classification: Internal   \\n \\n \\n \\n \\n \\n \\n \\n \\n \\n \\n \\n \\n \\nANNEXURE A'),\n",
       " Document(metadata={'source': 'Dummy - CB Policy.pdf', 'page': 10}, page_content='11 \\n \\nOCBC Information Classification: Internal   \\n \\n \\n \\n \\nThis template is brought to you by  \\n \\n \\n \\n \\n \\n \\n \\n \\n \\n \\nwww.greythr.com/middle -east/')]"
      ]
     },
     "execution_count": 8,
     "metadata": {},
     "output_type": "execute_result"
    }
   ],
   "source": [
    "splits"
   ]
  },
  {
   "cell_type": "code",
   "execution_count": 9,
   "metadata": {},
   "outputs": [],
   "source": [
    "pc = Pinecone(api_key=PINECONE_API_KEY)\n",
    "\n",
    "index_name = \"ocbc-hr-gpt\"  # change if desired\n",
    "index = pc.Index(index_name)\n",
    "llm = AzureChatOpenAI(\n",
    "            azure_endpoint=AZURE_OPENAI_ENDPOINT,\n",
    "            azure_deployment=AZURE_OPENAI_DEPLOYMENT_ID,\n",
    "            api_version=AZURE_API_VERSION,\n",
    "            api_key=AZURE_OPENAI_KEY,\n",
    "            temperature=0.0,\n",
    "            verbose=True,\n",
    "        )\n",
    "\n",
    "embedding_llm = AzureOpenAIEmbeddings(\n",
    "            azure_endpoint=AZURE_OPENAI_ENDPOINT,\n",
    "            azure_deployment='embedding-ada-crayon',\n",
    "            api_key=AZURE_OPENAI_KEY,\n",
    "            api_version=AZURE_API_VERSION,\n",
    "        )\n",
    "\n",
    "vector_store = PineconeVectorStore(index=index, embedding=embedding_llm)\n",
    "retriever = vector_store.as_retriever(search_type=\"similarity\", search_kwargs={'k': 6})"
   ]
  },
  {
   "cell_type": "code",
   "execution_count": 22,
   "metadata": {},
   "outputs": [],
   "source": [
    "from langchain_core.prompts import PromptTemplate\n",
    "from templates.prompt import QA_PROMPT\n",
    "\n",
    "\n",
    "prompt = PromptTemplate.from_template(QA_PROMPT)\n",
    "\n",
    "def format_docs(docs):\n",
    "    return \"\\n\\n\".join(doc.page_content for doc in docs)\n",
    "\n",
    "\n",
    "rag_chain = (\n",
    "    {\"context\": retriever | format_docs, \"question\": RunnablePassthrough()} | RunnablePassthrough()\n",
    "\n",
    ")\n"
   ]
  },
  {
   "cell_type": "code",
   "execution_count": 23,
   "metadata": {},
   "outputs": [],
   "source": [
    "res = rag_chain.invoke(\"what are the mandatory benefits given?\")"
   ]
  },
  {
   "cell_type": "code",
   "execution_count": 24,
   "metadata": {},
   "outputs": [
    {
     "data": {
      "text/plain": [
       "\"● Basic Salary  \\n● Housing Allowance  \\nThe total of Basic Salary and Housing Allowance is the Gross salary.  \\n● The Basic Salary is 50% of the Gross salary.  \\nAllowances  \\n \\nAny other additi onal benefits, i.e. Car Allowance + Fuel Allowance (depending \\nupon the hierarchy within the organisation and job responsibilities)  \\nThe following are the Variable Benefits of the compensation Structure  \\n● Overtime (depending upon the hierarchy within the organ isation)  \\n● Incentives and /or Bonus (depending upon the hierarchy within the \\norganisation and job within the organisation)  \\n Mandatory Benefits  \\n \\nThe following are the components of Mandatory Benefits that are extended to \\nemployees.  \\n● Visa and Employment processing fee  – The visa fee of employees \\nshall be borne by the organisation. However, the visa for immediate \\nfamily members  shall have to be borne by employees themselves. If \\nany requests for assistance in providing family visa is made by\\n\\norganisation. To receive the EoSB, employees must have completed at \\nleast one year of service with the organisation.  \\n● Pension scheme - Emirati nationals and GCC nationals are enrolled in \\nthe Pension scheme with GPSSA.  \\nVariable Benefits:  Descriptions – Eligibility - Calculations:  \\nIncentives and/or Bonus  \\n \\nThe Incentive and /or Bonus is extended to employees once the organisation \\nachieves its profitability targets and/or is extended on the occasions of \\nfestivals.  \\n● Employees become eligible for the same upon completing one year of \\nservice with the organisation.  \\n● The Incentive a nd/or Bonus are shared on an annual basis.  \\n● The Incentive and Bonus are decided and disbursed based on \\ncompany and individual employee performance.  \\n● The Incentives and Bonus disbursement is at the discretion of \\nmanagement and/or the board of directors.  \\nOvertime  \\n \\nOvertime is given to employees in the event employees devote extra hours to \\nduty or work on a holiday.\\n\\nmanagement and/or the board of directors.  \\nOvertime  \\n \\nOvertime is given to employees in the event employees devote extra hours to \\nduty or work on a holiday.  \\n● Overtime is extended to employees depending upon the job hierarchy \\nwithin the organisation.  \\n● The organisation may extend the compensatory off in stead of overtime, \\ni.e. employees shall be granted leave in return for working on a holiday \\nand/or extra hours.  \\n● Overtime is calculated on the Basic salary plus 25% of that pay.  \\n● Overtime could increase to 50% if the overtime is done between 10 pm \\nand 4 am.  \\nMandatory Benefits: Descriptions, Eligibility & Calculations:  \\n \\nVisa and Employment processing fee\\n\\n6 \\n \\nOCBC Information Classification: Internal  ● Medical Health Insuranc e of employees  Medical Health Insurance of \\nthe immediate dependents shall have to be undertaken by respective \\nemployees. If any requests for assistance in providing medical health \\ninsurance for immediate family members are made by employees, then \\nthe organ isation shall assist them. However, the amount for medical \\nhealth insurance for close family members shall have to be paid to the \\norganisation as per the mutual understanding and agreement between \\nthe organisation and employees.  \\n● End of Service Benefits (E SB) like Gratuity and pending leave salary at \\nthe end of service, i.e. applicable if either the employee leaves the \\norganisation or if the employee service contract is terminated by the \\norganisation. To receive the EoSB, employees must have completed at \\nleast one year of service with the organisation.  \\n● Pension scheme - Emirati nationals and GCC nationals are enrolled in\\n\\nMaternity  Leave  \\n \\n● Maternity leave is given to female em ployee s who are going to \\ngive labor.  \\n● Maximum mate rnity leave period is 3 months.  \\n \\n \\nEnd of Service Benefits (ESB)  \\n \\n● The same is extended to employees if they decide to leave the \\norganisation or are terminated by the organisation. ESB  refers to \\ngratuity or any paid leave salary that has not  been paid by the \\norganisation.  \\n● In the event employees serve the organisation for more than 1 \\nyear and less than 5 years, the full gratuity pay would amount to \\n21 days' salary for every year of service.  \\n● If employees serve the organisation for longer than 5  years, the \\ngratuity will amount to 30 days' salary for each year worked over \\nthe 5 -year threshold.  \\n● The total gratuity payment, regardless of the type of employment \\ncontract, will  not exceed the amount of the employee's 2 years' \\nsalary . \\n \\nPension and GPSSA\\n\\nannual basis to ensure that no eligible employee is missed out on  \\npayments.  \\n● The Manager Finance should budget and manage the funds for the \\nrelease of employees' benefits.  \\n \\n5. Non-compliance and consequences  \\n \\nThe organisation shall take necessary disciplinary actions in terms of non -\\ncompliance by the requisite parties involved in collecting the records of \\nemployees' Compensation and Benefits. The Disciplinary action includes \\ndemotion, reprimand, suspension or t ermination, and detraction of benefits for \\na definite or indefinite time. An investigation committee shall be formulated for \\nan unbiased investigation of the complaint submitted for non -compliance to \\nthe Compensation and Benefits Policy.  \\n \\n6. Special Circumst ances and Exceptions  \\n \\nIn the event the requisite HR Manager and/or Manager Finance is unable to \\nformulate the data and/or any employees contribution failed to be made on a\""
      ]
     },
     "execution_count": 24,
     "metadata": {},
     "output_type": "execute_result"
    }
   ],
   "source": [
    "res['context']"
   ]
  }
 ],
 "metadata": {
  "kernelspec": {
   "display_name": "ocbc_env",
   "language": "python",
   "name": "python3"
  },
  "language_info": {
   "codemirror_mode": {
    "name": "ipython",
    "version": 3
   },
   "file_extension": ".py",
   "mimetype": "text/x-python",
   "name": "python",
   "nbconvert_exporter": "python",
   "pygments_lexer": "ipython3",
   "version": "3.9.19"
  }
 },
 "nbformat": 4,
 "nbformat_minor": 2
}

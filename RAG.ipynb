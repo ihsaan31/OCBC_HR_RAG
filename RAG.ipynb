{
 "cells": [
  {
   "cell_type": "code",
   "execution_count": 1,
   "metadata": {},
   "outputs": [
    {
     "name": "stderr",
     "output_type": "stream",
     "text": [
      "USER_AGENT environment variable not set, consider setting it to identify your requests.\n",
      "c:\\Users\\san\\miniconda3\\envs\\new_env\\lib\\site-packages\\pinecone\\data\\index.py:1: TqdmWarning: IProgress not found. Please update jupyter and ipywidgets. See https://ipywidgets.readthedocs.io/en/stable/user_install.html\n",
      "  from tqdm.autonotebook import tqdm\n"
     ]
    },
    {
     "data": {
      "text/plain": [
       "True"
      ]
     },
     "execution_count": 1,
     "metadata": {},
     "output_type": "execute_result"
    }
   ],
   "source": [
    "from langchain import hub\n",
    "from langchain_chroma import Chroma\n",
    "from langchain_community.document_loaders import WebBaseLoader\n",
    "from langchain_core.output_parsers import StrOutputParser\n",
    "from langchain_core.runnables import RunnablePassthrough\n",
    "from langchain_openai import OpenAIEmbeddings\n",
    "from langchain_text_splitters import RecursiveCharacterTextSplitter\n",
    "from langchain_community.document_loaders import PyPDFLoader\n",
    "from langchain_openai import AzureChatOpenAI, AzureOpenAIEmbeddings\n",
    "import os\n",
    "from pinecone import Pinecone, ServerlessSpec\n",
    "from langchain_pinecone import PineconeVectorStore\n",
    "from uuid import uuid4\n",
    "from dotenv import load_dotenv\n",
    "load_dotenv()"
   ]
  },
  {
   "cell_type": "code",
   "execution_count": 6,
   "metadata": {},
   "outputs": [],
   "source": [
    "AZURE_OPENAI_ENDPOINT = os.getenv('AZURE_OPENAI_ENDPOINT')\n",
    "AZURE_OPENAI_DEPLOYMENT_ID = os.getenv('AZURE_OPENAI_DEPLOYMENT_ID')\n",
    "AZURE_OPENAI_KEY = os.getenv('AZURE_OPENAI_KEY')\n",
    "AZURE_API_VERSION = os.getenv('AZURE_API_VERSION')\n",
    "PINECONE_API_KEY = os.getenv('PINECONE_API_KEY')\n",
    "pc = Pinecone(api_key=PINECONE_API_KEY)"
   ]
  },
  {
   "cell_type": "code",
   "execution_count": 7,
   "metadata": {},
   "outputs": [],
   "source": [
    "llm = AzureChatOpenAI(\n",
    "            azure_endpoint=AZURE_OPENAI_ENDPOINT,\n",
    "            azure_deployment=AZURE_OPENAI_DEPLOYMENT_ID,\n",
    "            api_version=AZURE_API_VERSION,\n",
    "            api_key=AZURE_OPENAI_KEY,\n",
    "            temperature=0.0,\n",
    "            verbose=True,\n",
    "        )\n",
    "\n",
    "embedding_llm = AzureOpenAIEmbeddings(\n",
    "            azure_endpoint=AZURE_OPENAI_ENDPOINT,\n",
    "            azure_deployment='embedding-ada-crayon',\n",
    "            api_key=AZURE_OPENAI_KEY,\n",
    "            api_version=AZURE_API_VERSION,\n",
    "        )"
   ]
  },
  {
   "cell_type": "code",
   "execution_count": 8,
   "metadata": {},
   "outputs": [],
   "source": [
    "index_name = \"ocbc-hr-gpt\"  # change if desired\n",
    "\n",
    "index = pc.Index(index_name)"
   ]
  },
  {
   "cell_type": "code",
   "execution_count": 9,
   "metadata": {},
   "outputs": [],
   "source": [
    "loader = PyPDFLoader(r\"c:\\Users\\san\\Downloads\\Dummy - CB Policy.pdf\")\n",
    "pages = loader.load_and_split()"
   ]
  },
  {
   "cell_type": "code",
   "execution_count": 42,
   "metadata": {},
   "outputs": [
    {
     "data": {
      "text/plain": [
       "['69d8ab8c-cad2-4544-8b5b-2354f0a8daf1',\n",
       " 'd1215168-88ea-4d52-bb10-d452289cb95c',\n",
       " '95a7d87b-0a33-4083-acf8-c88385ca26e9',\n",
       " 'dba68d81-2c0e-4c3f-b7c3-04e7e302f1e1',\n",
       " 'f78c0f00-2400-420f-83ee-cd07fbf2cb5c',\n",
       " '6635ba5b-2944-4863-8c24-1ace90594c06',\n",
       " 'a4df0f04-8222-4aa5-829d-3823d58eef64',\n",
       " '999e5651-e0c6-4f55-95f9-6cbb7be246bf',\n",
       " '879c2b20-2fc0-40c3-bbb4-614478b152f4',\n",
       " '2f8a1314-d7b9-4ede-96e9-9bd38157b302',\n",
       " 'c6247b2a-d7f2-4873-9566-bda85f9f7996',\n",
       " '9185ea85-4bef-4e51-a25d-b17737e8c51e',\n",
       " 'e944747b-715f-4dd5-b9cb-ed8cd0bbce03',\n",
       " 'd777420f-430c-4b44-aed5-a7ff872c7649',\n",
       " '54528cc8-917d-4de7-9ae1-0d21e3f07f4e',\n",
       " 'addee4d2-5aaf-40c9-9ed7-e5f460736fb6',\n",
       " '4b34959f-b380-4914-883a-003a8dfa15d0',\n",
       " '8b1aebe6-8b36-41da-b6c4-20826a8d5cb6',\n",
       " '666d54c1-811e-46d7-a37c-fcfe66fab5bf',\n",
       " '207b85c4-5339-4418-8458-2662c7516cfa',\n",
       " '792c2740-2a78-4874-81f0-547e4ebbd614',\n",
       " '4bdb6459-2897-4632-9be0-c1cfb7a102ba']"
      ]
     },
     "execution_count": 42,
     "metadata": {},
     "output_type": "execute_result"
    }
   ],
   "source": [
    "pc = Pinecone(api_key=PINECONE_API_KEY)\n",
    "text_splitter = RecursiveCharacterTextSplitter(chunk_size=1000, chunk_overlap=200)\n",
    "splits = text_splitter.split_documents(pages)\n",
    "vector_store = PineconeVectorStore(index=index, embedding=embedding_llm)\n",
    "vector_store.add_documents(documents=splits)"
   ]
  },
  {
   "cell_type": "code",
   "execution_count": 43,
   "metadata": {},
   "outputs": [
    {
     "data": {
      "text/plain": [
       "'The Definition & Glossary section provides definitions and expansions for various terms and abbreviations used within the organization. It includes definitions for terms such as EoSB (End of Service Benefits), GCC (Gulf Cooperating Countries), and GPSSA (General Pension Social Security Authority).'"
      ]
     },
     "execution_count": 43,
     "metadata": {},
     "output_type": "execute_result"
    }
   ],
   "source": [
    "retriever = vector_store.as_retriever()\n",
    "prompt = hub.pull(\"rlm/rag-prompt\")\n",
    "\n",
    "\n",
    "def format_docs(docs):\n",
    "    return \"\\n\\n\".join(doc.page_content for doc in docs)\n",
    "\n",
    "\n",
    "rag_chain = (\n",
    "    {\"context\": retriever | format_docs, \"question\": RunnablePassthrough()}\n",
    "    | prompt\n",
    "    | llm\n",
    "    | StrOutputParser()\n",
    ")\n",
    "\n",
    "rag_chain.invoke(\"What is Definition & Glossary?\")"
   ]
  },
  {
   "cell_type": "code",
   "execution_count": 44,
   "metadata": {},
   "outputs": [
    {
     "data": {
      "text/plain": [
       "[Document(metadata={'page': 2.0, 'source': 'c:\\\\Users\\\\san\\\\Downloads\\\\Dummy - CB Policy.pdf'}, page_content='3 \\n \\nOCBC Information Classification: Internal  Scope & Applicability  4 \\nDefinition & Glossary  4 \\nPolicy / Process  Error! Bookmark not def ined.  \\n4.1 Policy Definition:  Error! Bookmark not defined.  \\n4.2. Procedures  Error! Bookmark not defined.  \\n4.3. Responsibility – HR department / Finance department  Error! Bookmark not \\ndefined.  \\nNon-compliance and consequences  1 \\nSpecial Circumstances and Exceptions  Error! Bookmark not defined.'),\n",
       " Document(metadata={'page': 3.0, 'source': 'c:\\\\Users\\\\san\\\\Downloads\\\\Dummy - CB Policy.pdf'}, page_content=\"4 \\n \\nOCBC Information Classification: Internal   \\n1. Objective  \\n \\nThe objective of the Compensation and Benefits Policy (The Policy) is aimed \\ntowards building a strong framework of pay structure for the organization to \\ncreate a  competitive work environment for its employees.  \\nThe policy aims  to be transparent about  compensation plans and \\ncommunicate the same to its employees.  \\n \\n2. Scope & Applicability  \\n \\nThe P olicy defines the principles upon which the organisation's Compensation \\nand Benefits (C&B) structure has been formulated. It also serves as a strong \\nbase for referring to the structure and elements of compensation for \\nemployees and the HR department alike.  \\nThe Compensation and Benefits policy applies  to all employees working with \\nthe organization.  \\n \\n3. Definition & Glossary  \\n \\nTerm \\n/Abbreviation  Definition / Expansion  \\nEoSB  End of Service Benefits  \\nGCC  Gulf Cooperating Countries  \\nGPSSA  General Pension Social Security Authority\"),\n",
       " Document(metadata={'page': 3.0, 'source': 'c:\\\\Users\\\\san\\\\Downloads\\\\Dummy - CB Policy.pdf'}, page_content='3. Definition & Glossary  \\n \\nTerm \\n/Abbreviation  Definition / Expansion  \\nEoSB  End of Service Benefits  \\nGCC  Gulf Cooperating Countries  \\nGPSSA  General Pension Social Security Authority  \\n \\n4. Policy / Process  \\n \\n4.1 Policy Definition  \\n \\nThe Policy defines the overall C&B structure for employees and the principles \\nupon which it is based. The policy document aims to act as a guide and \\nreferral document to the respective stakeholders.  \\nThe basic principles on which the Policy is designed are as follows:  \\nEqual Pay for Equal Work  \\n \\nThe Policy defines a pay structure based on \"Equal pay for equal work\" \\nprinciples, meaning that employees should be compensated commensurate \\nwith their skills and experience.  \\nNon–Discrimination  \\n \\nThe organisation does not believe in discrimination amongst and within its \\norganisation based on caste, creed, color, religion, nationality, gender and'),\n",
       " Document(metadata={'page': 1.0, 'source': 'c:\\\\Users\\\\san\\\\Downloads\\\\Dummy - CB Policy.pdf'}, page_content='2 \\n \\nOCBC Information Classification: Internal   \\nRevision History  \\n  \\nVer \\nNo. Change \\nDescription  Prepared \\nBy Reviewed By  Approved \\nBy Date  \\n      \\n  \\n  \\n \\n \\n \\n \\n \\n \\n \\n \\n \\n \\n \\n \\n \\n \\n \\n \\n \\n \\n \\n \\n \\n \\n \\n \\n \\n \\n \\n \\n \\n \\nTABLE OF CONTENTS  \\n \\n \\n \\n \\n \\n \\nObjective  4')]"
      ]
     },
     "execution_count": 44,
     "metadata": {},
     "output_type": "execute_result"
    }
   ],
   "source": [
    "retriever.invoke(\"What is Scope & Applicability ?\")"
   ]
  }
 ],
 "metadata": {
  "kernelspec": {
   "display_name": "new_env",
   "language": "python",
   "name": "python3"
  },
  "language_info": {
   "codemirror_mode": {
    "name": "ipython",
    "version": 3
   },
   "file_extension": ".py",
   "mimetype": "text/x-python",
   "name": "python",
   "nbconvert_exporter": "python",
   "pygments_lexer": "ipython3",
   "version": "3.9.19"
  }
 },
 "nbformat": 4,
 "nbformat_minor": 2
}
